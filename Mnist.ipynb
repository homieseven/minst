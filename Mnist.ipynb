{
 "cells": [
  {
   "cell_type": "code",
   "execution_count": 123,
   "metadata": {},
   "outputs": [
    {
     "name": "stdout",
     "output_type": "stream",
     "text": [
      "[name: \"/device:CPU:0\"\n",
      "device_type: \"CPU\"\n",
      "memory_limit: 268435456\n",
      "locality {\n",
      "}\n",
      "incarnation: 11374949806832336473\n",
      ", name: \"/device:GPU:0\"\n",
      "device_type: \"GPU\"\n",
      "memory_limit: 7152897229\n",
      "locality {\n",
      "  bus_id: 1\n",
      "  links {\n",
      "  }\n",
      "}\n",
      "incarnation: 4042621802061122961\n",
      "physical_device_desc: \"device: 0, name: GeForce GTX 1080, pci bus id: 0000:01:00.0, compute capability: 6.1\"\n",
      "]\n"
     ]
    }
   ],
   "source": [
    "from keras import layers\n",
    "from keras import models\n",
    "from keras.datasets import mnist\n",
    "from keras.utils import to_categorical\n",
    "from keras.preprocessing.image import ImageDataGenerator\n",
    "from keras.callbacks import ReduceLROnPlateau\n",
    "from keras.regularizers import l2 # L2-regularisation\n",
    "\n",
    "import time\n",
    "import sklearn\n",
    "import numpy as np\n",
    "\n",
    "import pandas as pd\n",
    "from pandas import DataFrame\n",
    "\n",
    "import matplotlib.pyplot as plt\n",
    "from matplotlib.pyplot import imshow\n",
    "\n",
    "from tensorflow.python.client import device_lib\n",
    "print(device_lib.list_local_devices())\n",
    "\n",
    "\n",
    "import os\n",
    "\n",
    "ROOT_PATH = os.getcwd()\n",
    "IMAGE_WIDTH = 28\n",
    "IMAGE_HEIGHT = 28\n",
    "\n",
    "TRAIN_SIZE = 36000\n",
    "VAL_SIZE = 5000\n",
    "TEST_SIZE = 1000"
   ]
  },
  {
   "cell_type": "code",
   "execution_count": 124,
   "metadata": {},
   "outputs": [],
   "source": [
    "def split_labels(data: DataFrame):\n",
    "    label = data['label']\n",
    "    data = data.drop(columns='label')\n",
    "    return (data, label)"
   ]
  },
  {
   "cell_type": "code",
   "execution_count": 125,
   "metadata": {},
   "outputs": [
    {
     "name": "stdout",
     "output_type": "stream",
     "text": [
      "Loaded train images:  42000\n"
     ]
    }
   ],
   "source": [
    "source_df = pd.read_csv(os.path.join(ROOT_PATH, 'train.csv'))\n",
    "source_shuffled_df = sklearn.utils.shuffle(source_df)\n",
    "(source_x_df, source_ynum_df) = split_labels(source_shuffled_df)\n",
    "\n",
    "source_xpix = source_x_df.values.astype('float32') / 255\n",
    "source_ynum = source_ynum_df.values\n",
    "\n",
    "source_y = to_categorical(source_ynum,10)\n",
    "source_x = source_xpix.reshape(source_xpix.shape[0], IMAGE_WIDTH, IMAGE_HEIGHT, 1)\n",
    "print(\"Loaded train images: \", source_x.shape[0])\n"
   ]
  },
  {
   "cell_type": "code",
   "execution_count": 126,
   "metadata": {},
   "outputs": [
    {
     "name": "stdout",
     "output_type": "stream",
     "text": [
      "Loaded test images:  28000\n"
     ]
    }
   ],
   "source": [
    "control_df = pd.read_csv(os.path.join(ROOT_PATH, 'test.csv'))\n",
    "control_xpix = control_df.values.astype('float32') / 255\n",
    "control_x = control_xpix.reshape(control_xpix.shape[0], IMAGE_WIDTH, IMAGE_HEIGHT, 1)\n",
    "\n",
    "print(\"Loaded test images: \", control_x.shape[0])"
   ]
  },
  {
   "cell_type": "code",
   "execution_count": 127,
   "metadata": {
    "scrolled": true
   },
   "outputs": [
    {
     "data": {
      "text/plain": [
       "<matplotlib.image.AxesImage at 0x7f477af9dfd0>"
      ]
     },
     "execution_count": 127,
     "metadata": {},
     "output_type": "execute_result"
    },
    {
     "data": {
      "image/png": "[encoded data removed]",
      "text/plain": [
       "<Figure size 432x288 with 1 Axes>"
      ]
     },
     "metadata": {
      "needs_background": "light"
     },
     "output_type": "display_data"
    }
   ],
   "source": [
    "total_x = np.append(control_x, source_x, axis = 0)\n",
    "mean_x = np.mean(total_x, axis = 0)\n",
    "\n",
    "source_norm_x = (source_x - mean_x)\n",
    "control_norm_x = (control_x - mean_x)\n",
    "\n",
    "%matplotlib inline\n",
    "image = mean_x.reshape((IMAGE_WIDTH,IMAGE_HEIGHT))*255\n",
    "imshow(image, cmap='gray')\n"
   ]
  },
  {
   "cell_type": "code",
   "execution_count": 128,
   "metadata": {},
   "outputs": [],
   "source": [
    "# split to train, val, test\n",
    "train_data = source_norm_x[:TRAIN_SIZE]\n",
    "train_label = source_y[:TRAIN_SIZE]\n",
    "\n",
    "val_data = source_norm_x[TRAIN_SIZE:TRAIN_SIZE+VAL_SIZE]\n",
    "val_label = source_y[TRAIN_SIZE:TRAIN_SIZE+VAL_SIZE]\n",
    "\n",
    "test_data = source_norm_x[TRAIN_SIZE+VAL_SIZE:TRAIN_SIZE+VAL_SIZE+TEST_SIZE]\n",
    "test_label = source_y[TRAIN_SIZE+VAL_SIZE:TRAIN_SIZE+VAL_SIZE+TEST_SIZE]"
   ]
  },
  {
   "cell_type": "code",
   "execution_count": 129,
   "metadata": {},
   "outputs": [],
   "source": [
    "# define model\n",
    "model = models.Sequential()\n",
    "model = models.Sequential()\n",
    "model.add(layers.Conv2D(32, (3, 3), activation='relu', input_shape=(28, 28, 1)))\n",
    "model.add(layers.normalization.BatchNormalization(axis=-1))\n",
    "model.add(layers.Conv2D(32, (3, 3), activation='relu'))\n",
    "model.add(layers.MaxPooling2D(pool_size=(2, 2)))\n",
    "model.add(layers.normalization.BatchNormalization(axis=-1))\n",
    "model.add(layers.Conv2D(64, (3, 3), activation='relu'))\n",
    "model.add(layers.normalization.BatchNormalization(axis=-1))\n",
    "model.add(layers.Conv2D(64, (3, 3), activation='relu'))\n",
    "\n",
    "model.add(layers.MaxPooling2D(pool_size=(2, 2)))\n",
    "model.add(layers.Flatten())\n",
    "# Fully connected layer\n",
    "model.add(layers.normalization.BatchNormalization())\n",
    "model.add(layers.Dense(512, activation='relu'))\n",
    "model.add(layers.normalization.BatchNormalization())\n",
    "model.add(layers.Dropout(0.5))\n",
    "model.add(layers.Dense(10, activation='softmax'))\n",
    "\n",
    "\n",
    "learning_rate_reduction =  ReduceLROnPlateau(monitor='val_acc',\n",
    "                                                patience=3,\n",
    "                                                verbose=1,\n",
    "                                                factor=0.25,\n",
    "                                                min_lr=0.00001)\n",
    "\n",
    "model.compile(optimizer='adamax', loss='categorical_crossentropy', metrics=['accuracy'])"
   ]
  },
  {
   "cell_type": "code",
   "execution_count": 130,
   "metadata": {},
   "outputs": [],
   "source": [
    "#define data generators\n",
    "\n",
    "BATCH_SIZE = 16\n",
    "\n",
    "train_datagen = ImageDataGenerator(\n",
    "        featurewise_center=False,  # set input mean to 0 over the dataset\n",
    "        samplewise_center=False,  # set each sample mean to 0\n",
    "        featurewise_std_normalization=False,  # divide inputs by std of the dataset\n",
    "        samplewise_std_normalization=False,  # divide each input by its std\n",
    "        zca_whitening=False,  # apply ZCA whitening\n",
    "        rotation_range=10,  # randomly rotate images in the range (degrees, 0 to 180)\n",
    "        zoom_range=0.1,  # Randomly zoom image\n",
    "        width_shift_range=3,  # randomly shift images horizontally (fraction of total width)\n",
    "        height_shift_range=3,  # randomly shift images vertically (fraction of total height)\n",
    "        horizontal_flip=False,  # randomly flip images\n",
    "        vertical_flip=False)  # randomly flip images)\n",
    "\n",
    "test_datagen = ImageDataGenerator()\n",
    "\n",
    "train_generator = train_datagen.flow(train_data, train_label, batch_size=BATCH_SIZE)\n",
    "test_generator = test_datagen.flow(val_data, val_label, batch_size=BATCH_SIZE)"
   ]
  },
  {
   "cell_type": "code",
   "execution_count": 131,
   "metadata": {},
   "outputs": [
    {
     "name": "stdout",
     "output_type": "stream",
     "text": [
      "Epoch 1/40\n",
      "3750/3750 [==============================] - 20s 5ms/step - loss: 0.2508 - acc: 0.9246 - val_loss: 0.0374 - val_acc: 0.9890\n",
      "Epoch 2/40\n",
      "3750/3750 [==============================] - 18s 5ms/step - loss: 0.1053 - acc: 0.9681 - val_loss: 0.0300 - val_acc: 0.9912\n",
      "Epoch 3/40\n",
      "3750/3750 [==============================] - 18s 5ms/step - loss: 0.0765 - acc: 0.9761 - val_loss: 0.0223 - val_acc: 0.9926\n",
      "Epoch 4/40\n",
      "3750/3750 [==============================] - 18s 5ms/step - loss: 0.0666 - acc: 0.9801 - val_loss: 0.0155 - val_acc: 0.9942\n",
      "Epoch 5/40\n",
      "3750/3750 [==============================] - 19s 5ms/step - loss: 0.0589 - acc: 0.9824 - val_loss: 0.0183 - val_acc: 0.9948\n",
      "Epoch 6/40\n",
      "3750/3750 [==============================] - 19s 5ms/step - loss: 0.0504 - acc: 0.9845 - val_loss: 0.0147 - val_acc: 0.9944\n",
      "Epoch 7/40\n",
      "3750/3750 [==============================] - 19s 5ms/step - loss: 0.0452 - acc: 0.9860 - val_loss: 0.0175 - val_acc: 0.9946\n",
      "Epoch 8/40\n",
      "3750/3750 [==============================] - 19s 5ms/step - loss: 0.0429 - acc: 0.9870 - val_loss: 0.0158 - val_acc: 0.9962\n",
      "Epoch 9/40\n",
      "3750/3750 [==============================] - 19s 5ms/step - loss: 0.0412 - acc: 0.9873 - val_loss: 0.0216 - val_acc: 0.9926\n",
      "Epoch 10/40\n",
      "3750/3750 [==============================] - 19s 5ms/step - loss: 0.0365 - acc: 0.9885 - val_loss: 0.0251 - val_acc: 0.9936\n",
      "Epoch 11/40\n",
      "3750/3750 [==============================] - 19s 5ms/step - loss: 0.0362 - acc: 0.9891 - val_loss: 0.0251 - val_acc: 0.9934\n",
      "\n",
      "Epoch 00011: ReduceLROnPlateau reducing learning rate to 0.0005000000237487257.\n",
      "Epoch 12/40\n",
      "3750/3750 [==============================] - 20s 5ms/step - loss: 0.0256 - acc: 0.9919 - val_loss: 0.0177 - val_acc: 0.9946\n",
      "Epoch 13/40\n",
      "3750/3750 [==============================] - 19s 5ms/step - loss: 0.0233 - acc: 0.9928 - val_loss: 0.0143 - val_acc: 0.9954\n",
      "Epoch 14/40\n",
      "3750/3750 [==============================] - 20s 5ms/step - loss: 0.0238 - acc: 0.9922 - val_loss: 0.0155 - val_acc: 0.9952\n",
      "\n",
      "Epoch 00014: ReduceLROnPlateau reducing learning rate to 0.0001250000059371814.\n",
      "Epoch 15/40\n",
      "3750/3750 [==============================] - 19s 5ms/step - loss: 0.0224 - acc: 0.9929 - val_loss: 0.0159 - val_acc: 0.9954\n",
      "Epoch 16/40\n",
      "3750/3750 [==============================] - 19s 5ms/step - loss: 0.0204 - acc: 0.9936 - val_loss: 0.0150 - val_acc: 0.9958\n",
      "Epoch 17/40\n",
      "3750/3750 [==============================] - 20s 5ms/step - loss: 0.0203 - acc: 0.9938 - val_loss: 0.0161 - val_acc: 0.9952\n",
      "\n",
      "Epoch 00017: ReduceLROnPlateau reducing learning rate to 3.125000148429535e-05.\n",
      "Epoch 18/40\n",
      "3750/3750 [==============================] - 19s 5ms/step - loss: 0.0184 - acc: 0.9941 - val_loss: 0.0132 - val_acc: 0.9962\n",
      "Epoch 19/40\n",
      "3750/3750 [==============================] - 20s 5ms/step - loss: 0.0203 - acc: 0.9934 - val_loss: 0.0171 - val_acc: 0.9948\n",
      "Epoch 20/40\n",
      "3750/3750 [==============================] - 19s 5ms/step - loss: 0.0185 - acc: 0.9940 - val_loss: 0.0150 - val_acc: 0.9956\n",
      "\n",
      "Epoch 00020: ReduceLROnPlateau reducing learning rate to 1e-05.\n",
      "Epoch 21/40\n",
      "3750/3750 [==============================] - 19s 5ms/step - loss: 0.0185 - acc: 0.9943 - val_loss: 0.0120 - val_acc: 0.9962\n",
      "Epoch 22/40\n",
      "3750/3750 [==============================] - 18s 5ms/step - loss: 0.0197 - acc: 0.9937 - val_loss: 0.0169 - val_acc: 0.9950\n",
      "Epoch 23/40\n",
      "3750/3750 [==============================] - 19s 5ms/step - loss: 0.0192 - acc: 0.9938 - val_loss: 0.0142 - val_acc: 0.9958\n",
      "Epoch 24/40\n",
      "3750/3750 [==============================] - 20s 5ms/step - loss: 0.0193 - acc: 0.9936 - val_loss: 0.0172 - val_acc: 0.9944\n",
      "Epoch 25/40\n",
      "3750/3750 [==============================] - 20s 5ms/step - loss: 0.0175 - acc: 0.9949 - val_loss: 0.0147 - val_acc: 0.9954\n",
      "Epoch 26/40\n",
      "3750/3750 [==============================] - 19s 5ms/step - loss: 0.0200 - acc: 0.9936 - val_loss: 0.0146 - val_acc: 0.9956\n",
      "Epoch 27/40\n",
      "3750/3750 [==============================] - 21s 6ms/step - loss: 0.0174 - acc: 0.9945 - val_loss: 0.0149 - val_acc: 0.9956\n",
      "Epoch 28/40\n",
      "3750/3750 [==============================] - 19s 5ms/step - loss: 0.0193 - acc: 0.9938 - val_loss: 0.0161 - val_acc: 0.9952\n",
      "Epoch 29/40\n",
      "3750/3750 [==============================] - 19s 5ms/step - loss: 0.0189 - acc: 0.9939 - val_loss: 0.0128 - val_acc: 0.9960\n",
      "Epoch 30/40\n",
      "3750/3750 [==============================] - 19s 5ms/step - loss: 0.0188 - acc: 0.9943 - val_loss: 0.0166 - val_acc: 0.9952\n",
      "Epoch 31/40\n",
      "3750/3750 [==============================] - 20s 5ms/step - loss: 0.0192 - acc: 0.9940 - val_loss: 0.0144 - val_acc: 0.9954\n",
      "Epoch 32/40\n",
      "3750/3750 [==============================] - 20s 5ms/step - loss: 0.0196 - acc: 0.9941 - val_loss: 0.0164 - val_acc: 0.9948\n",
      "Epoch 33/40\n",
      "3750/3750 [==============================] - 18s 5ms/step - loss: 0.0183 - acc: 0.9939 - val_loss: 0.0122 - val_acc: 0.9960\n",
      "Epoch 34/40\n",
      "3750/3750 [==============================] - 18s 5ms/step - loss: 0.0186 - acc: 0.9941 - val_loss: 0.0182 - val_acc: 0.9950\n",
      "Epoch 35/40\n",
      "3750/3750 [==============================] - 18s 5ms/step - loss: 0.0183 - acc: 0.9943 - val_loss: 0.0123 - val_acc: 0.9966\n",
      "Epoch 36/40\n",
      "3750/3750 [==============================] - 18s 5ms/step - loss: 0.0187 - acc: 0.9941 - val_loss: 0.0158 - val_acc: 0.9950\n",
      "Epoch 37/40\n",
      "3750/3750 [==============================] - 18s 5ms/step - loss: 0.0201 - acc: 0.9935 - val_loss: 0.0159 - val_acc: 0.9946\n",
      "Epoch 38/40\n",
      "3750/3750 [==============================] - 20s 5ms/step - loss: 0.0200 - acc: 0.9940 - val_loss: 0.0139 - val_acc: 0.9954\n",
      "Epoch 39/40\n",
      "3750/3750 [==============================] - 20s 5ms/step - loss: 0.0184 - acc: 0.9943 - val_loss: 0.0149 - val_acc: 0.9952\n",
      "Epoch 40/40\n",
      "3750/3750 [==============================] - 19s 5ms/step - loss: 0.0186 - acc: 0.9941 - val_loss: 0.0157 - val_acc: 0.9950\n",
      "Training time per epoch 19.11847079396248\n"
     ]
    }
   ],
   "source": [
    "# train model\n",
    "number_of_epochs = 40\n",
    "start_time = time.time()\n",
    "history = model.fit_generator(train_generator, steps_per_epoch=60000 // BATCH_SIZE, epochs=number_of_epochs,\n",
    "                          validation_data=test_generator, validation_steps=VAL_SIZE // BATCH_SIZE,\n",
    "                                  callbacks=[learning_rate_reduction])\n",
    "training_time = time.time() - start_time\n",
    "print(\"Training time per epoch\", training_time/number_of_epochs)"
   ]
  },
  {
   "cell_type": "code",
   "execution_count": 132,
   "metadata": {},
   "outputs": [],
   "source": [
    "#predict\n",
    "predict_labels = model.predict_classes(control_norm_x)"
   ]
  },
  {
   "cell_type": "code",
   "execution_count": 133,
   "metadata": {},
   "outputs": [],
   "source": [
    "# merge together and save\n",
    "idLabel = pd.Series(data=np.arange(1, predict_labels.size + 1), name='ImageId')\n",
    "serieLabel = pd.Series(data=predict_labels, name='Label')\n",
    "\n",
    "pr_df = pd.concat([idLabel, serieLabel], axis=1)\n",
    "path_for_prediction = os.path.join(ROOT_PATH, 'prediction.csv')\n",
    "result = pr_df.to_csv(path_for_prediction, index=False)"
   ]
  },
  {
   "cell_type": "code",
   "execution_count": 134,
   "metadata": {},
   "outputs": [
    {
     "name": "stdout",
     "output_type": "stream",
     "text": [
      "1000/1000 [==============================] - 0s 42us/step\n",
      "[0.011696326436620438, 0.998]\n"
     ]
    },
    {
     "data": {
      "image/png": "[encoded data removed]",
      "text/plain": [
       "<Figure size 432x288 with 1 Axes>"
      ]
     },
     "metadata": {
      "needs_background": "light"
     },
     "output_type": "display_data"
    },
    {
     "name": "stdout",
     "output_type": "stream",
     "text": [
      "[0.011696326436620438, 0.998]\n"
     ]
    }
   ],
   "source": [
    "# print history\n",
    "history_dict = history.history\n",
    "acc_values = history_dict['acc']\n",
    "val_acc_values = history_dict['val_acc']\n",
    "\n",
    "epochs = range(1, len(acc_values) + 1)\n",
    "# print test result\n",
    "result = model.evaluate(test_data, test_label)\n",
    "print(result)\n",
    "\n",
    "plt.clf()\n",
    "plt.plot(epochs, acc_values, 'bo', label='Training acc')\n",
    "plt.plot(epochs, val_acc_values, 'b', label='Validation acc')\n",
    "plt.title('Training and validation accuracy')\n",
    "plt.xlabel('Epochs')\n",
    "plt.ylabel('Loss')\n",
    "plt.legend()\n",
    "plt.show()\n",
    "\n",
    "print(result)"
   ]
  },
  {
   "cell_type": "code",
   "execution_count": null,
   "metadata": {},
   "outputs": [],
   "source": []
  }
 ],
 "metadata": {
  "kernelspec": {
   "display_name": "Python 3",
   "language": "python",
   "name": "python3"
  },
  "language_info": {
   "codemirror_mode": {
    "name": "ipython",
    "version": 3
   },
   "file_extension": ".py",
   "mimetype": "text/x-python",
   "name": "python",
   "nbconvert_exporter": "python",
   "pygments_lexer": "ipython3",
   "version": "3.6.6"
  }
 },
 "nbformat": 4,
 "nbformat_minor": 2
}
