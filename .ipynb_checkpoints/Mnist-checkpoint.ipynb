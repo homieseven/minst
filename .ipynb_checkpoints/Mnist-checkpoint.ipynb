{
 "cells": [
  {
   "cell_type": "code",
   "execution_count": 22,
   "metadata": {},
   "outputs": [],
   "source": [
    "from keras import layers\n",
    "from keras import models\n",
    "from keras.datasets import mnist\n",
    "from keras.utils import to_categorical\n",
    "from keras.preprocessing.image import ImageDataGenerator\n",
    "from keras.callbacks import ReduceLROnPlateau\n",
    "from keras.regularizers import l2 # L2-regularisation\n",
    "\n",
    "import time\n",
    "import sklearn\n",
    "import numpy as np\n",
    "\n",
    "import pandas as pd\n",
    "from pandas import DataFrame\n",
    "\n",
    "import matplotlib.pyplot as plt\n",
    "\n",
    "import os\n",
    "\n",
    "ROOT_PATH = os.getcwd()"
   ]
  },
  {
   "cell_type": "code",
   "execution_count": 23,
   "metadata": {
    "collapsed": true
   },
   "outputs": [],
   "source": [
    "def split_labels(data: DataFrame):\n",
    "    label = data['label']\n",
    "    data = data.drop(columns='label')\n",
    "    return (data, label)"
   ]
  },
  {
   "cell_type": "code",
   "execution_count": 24,
   "metadata": {},
   "outputs": [
    {
     "name": "stdout",
     "output_type": "stream",
     "text": [
      "Loaded train images:  42000\n"
     ]
    }
   ],
   "source": [
    "all_df = pd.read_csv(os.path.join(ROOT_PATH, 'train.csv'))\n",
    "all_df = sklearn.utils.shuffle(all_df)\n",
    "(all_pixels_df, all_labels_df) = split_labels(all_df)\n",
    "\n",
    "all_pixel_data = all_pixels_df.as_matrix().astype('float32')\n",
    "all_labels = all_labels_df.as_matrix()\n",
    "\n",
    "all_labels = to_categorical(all_labels,10) / 255\n",
    "all_images = all_pixel_data.reshape(all_pixel_data.shape[0], 28, 28, 1)\n",
    "print(\"Loaded train images: \", all_images.shape[0])\n"
   ]
  },
  {
   "cell_type": "code",
   "execution_count": 25,
   "metadata": {},
   "outputs": [
    {
     "name": "stdout",
     "output_type": "stream",
     "text": [
      "Loaded test images:  28000\n"
     ]
    }
   ],
   "source": [
    "predict_df = pd.read_csv(os.path.join(ROOT_PATH, 'test.csv'))\n",
    "predict_data = predict_df.as_matrix().astype('float32') / 255\n",
    "predict_images = predict_data.reshape(predict_data.shape[0], 28, 28, 1)\n",
    "\n",
    "print(\"Loaded test images: \", predict_images.shape[0])"
   ]
  },
  {
   "cell_type": "code",
   "execution_count": 26,
   "metadata": {},
   "outputs": [],
   "source": [
    "global_images = np.append(predict_images, all_images, axis=0)\n",
    "mean_image = np.mean(global_images, axis = 0)\n",
    "\n",
    "predict_images = (predict_images - mean_image)\n",
    "all_images = (all_images - mean_image)"
   ]
  },
  {
   "cell_type": "code",
   "execution_count": 27,
   "metadata": {
    "collapsed": true
   },
   "outputs": [],
   "source": [
    "# split to train, val, test\n",
    "train_data = all_images[:36000]\n",
    "train_label = all_labels[:36000]\n",
    "\n",
    "val_data = all_images[36000:41000]\n",
    "val_label = all_labels[36000:41000]\n",
    "\n",
    "test_data = all_images[41000:42000]\n",
    "test_label = all_labels[41000:42000]"
   ]
  },
  {
   "cell_type": "code",
   "execution_count": 28,
   "metadata": {
    "collapsed": true
   },
   "outputs": [],
   "source": [
    "# define model\n",
    "model = models.Sequential()\n",
    "model = models.Sequential()\n",
    "model.add(layers.Conv2D(32, (3, 3), activation='relu', input_shape=(28, 28, 1)))\n",
    "model.add(layers.normalization.BatchNormalization(axis=-1))\n",
    "model.add(layers.Conv2D(32, (3, 3), activation='relu'))\n",
    "model.add(layers.MaxPooling2D(pool_size=(2, 2)))\n",
    "model.add(layers.normalization.BatchNormalization(axis=-1))\n",
    "model.add(layers.Conv2D(64, (3, 3), activation='relu'))\n",
    "model.add(layers.normalization.BatchNormalization(axis=-1))\n",
    "model.add(layers.Conv2D(64, (3, 3), activation='relu'))\n",
    "\n",
    "model.add(layers.MaxPooling2D(pool_size=(2, 2)))\n",
    "model.add(layers.Flatten())\n",
    "# Fully connected layer\n",
    "model.add(layers.normalization.BatchNormalization())\n",
    "model.add(layers.Dense(512, activation='relu'))\n",
    "model.add(layers.normalization.BatchNormalization())\n",
    "model.add(layers.Dropout(0.5))\n",
    "model.add(layers.Dense(10, activation='softmax'))\n",
    "\n",
    "\n",
    "learning_rate_reduction =  ReduceLROnPlateau(monitor='val_acc',\n",
    "                                                patience=3,\n",
    "                                                verbose=1,\n",
    "                                                factor=0.25,\n",
    "                                                min_lr=0.00001)\n",
    "\n",
    "model.compile(optimizer='adamax', loss='categorical_crossentropy', metrics=['accuracy'])\n",
    "\n",
    "\n",
    "train_datagen = ImageDataGenerator(\n",
    "        featurewise_center=False,  # set input mean to 0 over the dataset\n",
    "        samplewise_center=False,  # set each sample mean to 0\n",
    "        featurewise_std_normalization=False,  # divide inputs by std of the dataset\n",
    "        samplewise_std_normalization=False,  # divide each input by its std\n",
    "        zca_whitening=False,  # apply ZCA whitening\n",
    "        rotation_range=10,  # randomly rotate images in the range (degrees, 0 to 180)\n",
    "        zoom_range=0.1,  # Randomly zoom image\n",
    "        width_shift_range=3,  # randomly shift images horizontally (fraction of total width)\n",
    "        height_shift_range=3,  # randomly shift images vertically (fraction of total height)\n",
    "        horizontal_flip=False,  # randomly flip images\n",
    "        vertical_flip=False)  # randomly flip images)\n",
    "\n",
    "test_datagen = ImageDataGenerator()\n",
    "\n",
    "train_generator = train_datagen.flow(train_data, train_label, batch_size=16)\n",
    "test_generator = test_datagen.flow(val_data, val_label, batch_size=16)"
   ]
  },
  {
   "cell_type": "code",
   "execution_count": 29,
   "metadata": {},
   "outputs": [
    {
     "name": "stdout",
     "output_type": "stream",
     "text": [
      "Epoch 1/1\n",
      "3750/3750 [==============================] - 265s 71ms/step - loss: 9.1798e-04 - acc: 0.9290 - val_loss: 1.4928e-04 - val_acc: 0.9884\n",
      "Training time 266.45017313957214\n"
     ]
    }
   ],
   "source": [
    "# train model\n",
    "number_of_epochs = 1\n",
    "start_time = time.time()\n",
    "history = model.fit_generator(train_generator, steps_per_epoch=60000 // 16, epochs=number_of_epochs,\n",
    "                          validation_data=test_generator, validation_steps=5000 // 16,\n",
    "                                  callbacks=[learning_rate_reduction])\n",
    "training_time = time.time() - start_time\n",
    "print(\"Training time per epoch\", training_time/number_of_epochs)"
   ]
  },
  {
   "cell_type": "code",
   "execution_count": 30,
   "metadata": {
    "collapsed": true
   },
   "outputs": [],
   "source": [
    "predict_labels = model.predict_classes(predict_images)"
   ]
  },
  {
   "cell_type": "code",
   "execution_count": 31,
   "metadata": {
    "collapsed": true
   },
   "outputs": [],
   "source": [
    "# merge together and save\n",
    "idLabel = pd.Series(data=np.arange(1, predict_labels.size + 1), name='ImageId')\n",
    "serieLabel = pd.Series(data=predict_labels, name='Label')\n",
    "\n",
    "pr_df = pd.concat([idLabel, serieLabel], axis=1)\n",
    "path_for_prediction = os.path.join(ROOT_PATH, 'prediction.csv')\n",
    "result = pr_df.to_csv(path_for_prediction, index=False)"
   ]
  },
  {
   "cell_type": "code",
   "execution_count": 32,
   "metadata": {},
   "outputs": [
    {
     "name": "stdout",
     "output_type": "stream",
     "text": [
      "1000/1000 [==============================] - 1s 659us/step\n",
      "[0.00024552888220205204, 0.981]\n"
     ]
    },
    {
     "data": {
      "image/png": "[encoded data removed]",
      "text/plain": [
       "<Figure size 432x288 with 1 Axes>"
      ]
     },
     "metadata": {},
     "output_type": "display_data"
    },
    {
     "name": "stdout",
     "output_type": "stream",
     "text": [
      "[0.00024552888220205204, 0.981]\n"
     ]
    }
   ],
   "source": [
    "# print history\n",
    "history_dict = history.history\n",
    "acc_values = history_dict['acc']\n",
    "val_acc_values = history_dict['val_acc']\n",
    "\n",
    "epochs = range(1, len(acc_values) + 1)\n",
    "# print test result\n",
    "result = model.evaluate(test_data, test_label)\n",
    "print(result)\n",
    "\n",
    "plt.clf()\n",
    "plt.plot(epochs, acc_values, 'bo', label='Training acc')\n",
    "plt.plot(epochs, val_acc_values, 'b', label='Validation acc')\n",
    "plt.title('Training and validation accuracy')\n",
    "plt.xlabel('Epochs')\n",
    "plt.ylabel('Loss')\n",
    "plt.legend()\n",
    "plt.show()\n",
    "\n",
    "print(result)"
   ]
  }
 ],
 "metadata": {
  "kernelspec": {
   "display_name": "ML",
   "language": "python",
   "name": "ml"
  },
  "language_info": {
   "codemirror_mode": {
    "name": "ipython",
    "version": 3
   },
   "file_extension": ".py",
   "mimetype": "text/x-python",
   "name": "python",
   "nbconvert_exporter": "python",
   "pygments_lexer": "ipython3",
   "version": "3.6.1"
  }
 },
 "nbformat": 4,
 "nbformat_minor": 2
}
